{
 "cells": [
  {
   "cell_type": "markdown",
   "metadata": {},
   "source": [
    "# 分支结构\n",
    "## 笔记"
   ]
  },
  {
   "cell_type": "markdown",
   "metadata": {},
   "source": [
    "1. 和c的区别是python使用缩进，c使用{}"
   ]
  },
  {
   "cell_type": "markdown",
   "metadata": {},
   "source": [
    "## 习题"
   ]
  },
  {
   "cell_type": "code",
   "execution_count": 2,
   "metadata": {
    "ExecuteTime": {
     "end_time": "2019-05-23T01:38:59.577349Z",
     "start_time": "2019-05-23T01:38:50.460304Z"
    }
   },
   "outputs": [
    {
     "name": "stdout",
     "output_type": "stream",
     "text": [
      "请输入长度: 1\n",
      "请输入单位: m\n",
      "请输入有效的单位\n"
     ]
    }
   ],
   "source": [
    "\"\"\"\n",
    "英制单位英寸和公制单位厘米互换\n",
    "\n",
    "Version: 0.1\n",
    "Author: 骆昊\n",
    "\"\"\"\n",
    "\n",
    "value = float(input('请输入长度: '))\n",
    "unit = input('请输入单位: ')\n",
    "if unit == 'in' or unit == '英寸':\n",
    "    print('%f英寸 = %f厘米' % (value, value * 2.54))\n",
    "elif unit == 'cm' or unit == '厘米':\n",
    "    print('%f厘米 = %f英寸' % (value, value / 2.54))\n",
    "else:\n",
    "    print('请输入有效的单位')"
   ]
  },
  {
   "cell_type": "code",
   "execution_count": 3,
   "metadata": {
    "ExecuteTime": {
     "end_time": "2019-05-23T01:39:26.925252Z",
     "start_time": "2019-05-23T01:39:26.913868Z"
    }
   },
   "outputs": [
    {
     "name": "stdout",
     "output_type": "stream",
     "text": [
      "讲冷笑话\n"
     ]
    }
   ],
   "source": [
    "\"\"\"\n",
    "掷骰子决定做什么事情\n",
    "\n",
    "Version: 0.1\n",
    "Author: 骆昊\n",
    "\"\"\"\n",
    "\n",
    "from random import randint\n",
    "\n",
    "face = randint(1, 6)\n",
    "if face == 1:\n",
    "    result = '唱首歌'\n",
    "elif face == 2:\n",
    "    result = '跳个舞'\n",
    "elif face == 3:\n",
    "    result = '学狗叫'\n",
    "elif face == 4:\n",
    "    result = '做俯卧撑'\n",
    "elif face == 5:\n",
    "    result = '念绕口令'\n",
    "else:\n",
    "    result = '讲冷笑话'\n",
    "print(result)"
   ]
  },
  {
   "cell_type": "code",
   "execution_count": 4,
   "metadata": {
    "ExecuteTime": {
     "end_time": "2019-05-23T01:39:46.262880Z",
     "start_time": "2019-05-23T01:39:44.322652Z"
    }
   },
   "outputs": [
    {
     "name": "stdout",
     "output_type": "stream",
     "text": [
      "请输入成绩: 100\n",
      "对应的等级是: A\n"
     ]
    }
   ],
   "source": [
    "\"\"\"\n",
    "百分制成绩转等级制成绩\n",
    "90分以上    --> A\n",
    "80分~89分    --> B\n",
    "70分~79分\t   --> C\n",
    "60分~69分    --> D\n",
    "60分以下    --> E\n",
    "\n",
    "Version: 0.1\n",
    "Author: 骆昊\n",
    "\"\"\"\n",
    "\n",
    "score = float(input('请输入成绩: '))\n",
    "if score >= 90:\n",
    "    grade = 'A'\n",
    "elif score >= 80:\n",
    "    grade = 'B'\n",
    "elif score >= 70:\n",
    "    grade = 'C'\n",
    "elif score >= 60:\n",
    "    grade = 'D'\n",
    "else:\n",
    "    grade = 'E'\n",
    "print('对应的等级是:', grade)"
   ]
  },
  {
   "cell_type": "code",
   "execution_count": 5,
   "metadata": {
    "ExecuteTime": {
     "end_time": "2019-05-23T01:40:20.608218Z",
     "start_time": "2019-05-23T01:40:12.032480Z"
    }
   },
   "outputs": [
    {
     "name": "stdout",
     "output_type": "stream",
     "text": [
      "a = 4\n",
      "b = 5\n",
      "c = 3\n",
      "周长: 12.000000\n",
      "面积: 6.000000\n"
     ]
    }
   ],
   "source": [
    "\"\"\"\n",
    "判断输入的边长能否构成三角形\n",
    "如果能则计算出三角形的周长和面积\n",
    "\n",
    "Version: 0.1\n",
    "Author: 骆昊\n",
    "\"\"\"\n",
    "\n",
    "import math\n",
    "\n",
    "a = float(input('a = '))\n",
    "b = float(input('b = '))\n",
    "c = float(input('c = '))\n",
    "if a + b > c and a + c > b and b + c > a:\n",
    "    print('周长: %f' % (a + b + c))\n",
    "    p = (a + b + c) / 2\n",
    "    area = math.sqrt(p * (p - a) * (p - b) * (p - c))\n",
    "    print('面积: %f' % (area))\n",
    "else:\n",
    "    print('不能构成三角形')"
   ]
  },
  {
   "cell_type": "code",
   "execution_count": 6,
   "metadata": {
    "ExecuteTime": {
     "end_time": "2019-05-23T01:41:00.479760Z",
     "start_time": "2019-05-23T01:40:46.722712Z"
    }
   },
   "outputs": [
    {
     "name": "stdout",
     "output_type": "stream",
     "text": [
      "本月收入: 24000\n",
      "五险一金: 12000\n",
      "个人所得税: ￥1145.00元\n",
      "实际到手收入: ￥10855.00元\n"
     ]
    }
   ],
   "source": [
    "\"\"\"\n",
    "输入月收入和五险一金计算个人所得税\n",
    "\n",
    "Version: 0.1\n",
    "Author: 骆昊\n",
    "\"\"\"\n",
    "\n",
    "salary = float(input('本月收入: '))\n",
    "insurance = float(input('五险一金: '))\n",
    "diff = salary - insurance - 3500\n",
    "if diff <= 0:\n",
    "    rate = 0\n",
    "    deduction = 0\n",
    "elif diff < 1500:\n",
    "    rate = 0.03\n",
    "    deduction = 0\n",
    "elif diff < 4500:\n",
    "    rate = 0.1\n",
    "    deduction = 105\n",
    "elif diff < 9000:\n",
    "    rate = 0.2\n",
    "    deduction = 555\n",
    "elif diff < 35000:\n",
    "    rate = 0.25\n",
    "    deduction = 1005\n",
    "elif diff < 55000:\n",
    "    rate = 0.3\n",
    "    deduction = 2755\n",
    "elif diff < 80000:\n",
    "    rate = 0.35\n",
    "    deduction = 5505\n",
    "else:\n",
    "    rate = 0.45\n",
    "    deduction = 13505\n",
    "tax = abs(diff * rate - deduction)\n",
    "print('个人所得税: ￥%.2f元' % tax)\n",
    "print('实际到手收入: ￥%.2f元' % (diff + 3500 - tax))"
   ]
  },
  {
   "cell_type": "markdown",
   "metadata": {},
   "source": [
    "## 心得"
   ]
  },
  {
   "cell_type": "code",
   "execution_count": null,
   "metadata": {},
   "outputs": [],
   "source": [
    "1. 没啥好说的。"
   ]
  }
 ],
 "metadata": {
  "kernelspec": {
   "display_name": "Python 3",
   "language": "python",
   "name": "python3"
  },
  "language_info": {
   "codemirror_mode": {
    "name": "ipython",
    "version": 3
   },
   "file_extension": ".py",
   "mimetype": "text/x-python",
   "name": "python",
   "nbconvert_exporter": "python",
   "pygments_lexer": "ipython3",
   "version": "3.7.1"
  },
  "latex_envs": {
   "LaTeX_envs_menu_present": true,
   "autoclose": false,
   "autocomplete": true,
   "bibliofile": "biblio.bib",
   "cite_by": "apalike",
   "current_citInitial": 1,
   "eqLabelWithNumbers": true,
   "eqNumInitial": 1,
   "hotkeys": {
    "equation": "Ctrl-E",
    "itemize": "Ctrl-I"
   },
   "labels_anchors": false,
   "latex_user_defs": false,
   "report_style_numbering": false,
   "user_envs_cfg": false
  },
  "toc": {
   "base_numbering": 1,
   "nav_menu": {},
   "number_sections": true,
   "sideBar": true,
   "skip_h1_title": false,
   "title_cell": "Table of Contents",
   "title_sidebar": "Contents",
   "toc_cell": false,
   "toc_position": {},
   "toc_section_display": true,
   "toc_window_display": false
  }
 },
 "nbformat": 4,
 "nbformat_minor": 2
}
